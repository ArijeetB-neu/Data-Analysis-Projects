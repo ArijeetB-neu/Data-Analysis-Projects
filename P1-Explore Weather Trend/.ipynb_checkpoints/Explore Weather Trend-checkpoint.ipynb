{
 "cells": [
  {
   "cell_type": "markdown",
   "metadata": {},
   "source": [
    "# Project 1 - Explore Weather Trends\n",
    "\n",
    "by Arijeet Biswas"
   ]
  },
  {
   "cell_type": "markdown",
   "metadata": {},
   "source": [
    "## General Guidelines\n",
    "### Summary\n",
    "In this project, we are analyzing local and global temperature data and comparing the temperature trends where I am from to overall global temperature trends.\n",
    "\n",
    "### Work Process\n",
    "The goal is to create a visualization and prepare a write up describing the similarities and differences between global temperature trends and temperature trends in the closest big city to where we live. To do this, we will follow the following steps:\n",
    "\n",
    "- Extract the data from the database. There is a workspace in the next section that is connected to a database. We will need to export the temperature data for the world as well as for the closest big city to where you live. We can find a list of cities and countries in the city_list table. To interact with the database, we have to write the following SQL query.\n",
    "\n",
    "    - Write a SQL query to extract the city level data and export to CSV.\n",
    "    - Write a SQL query to extract the global data and export to CSV.\n",
    "- Open up the CSV in the tool we are comfortable using. In our case we are using Python.\n",
    "\n",
    "- Create a line chart that compares our city’s temperatures with the global temperatures. Make sure to plot the moving average rather than the yearly averages in order to smooth out the lines, making trends more observable.\n",
    "\n",
    "- Make observations about the similarities and differences between the world averages and your city’s averages, as well as overall trends. Here are some questions to get you started.\n",
    "\n",
    "    - Is the city hotter or cooler on average compared to the global average? Has the difference been consistent over time?\n",
    "    - “How do the changes in the city’s temperatures over time compare to the changes in the global average?”\n",
    "    - What does the overall trend look like? Is the world getting hotter or cooler? Has the trend been consistent over the last few hundred years?"
   ]
  },
  {
   "cell_type": "markdown",
   "metadata": {},
   "source": [
    "## Step 1 - Extracting Data\n",
    "\n",
    "\n",
    "First of all we need to check the number of rows for the \"city_data\" table (SQL)."
   ]
  },
  {
   "cell_type": "raw",
   "metadata": {},
   "source": [
    "SELECT COUNT(YEAR)\n",
    "FROM city_data;"
   ]
  },
  {
   "cell_type": "markdown",
   "metadata": {},
   "source": [
    "**Output:**71311"
   ]
  },
  {
   "cell_type": "markdown",
   "metadata": {},
   "source": [
    "The full dataset are queried with the * symbol and I save the csv files on to my computer."
   ]
  },
  {
   "cell_type": "raw",
   "metadata": {},
   "source": [
    "SELECT *\n",
    "FROM global_data;"
   ]
  },
  {
   "cell_type": "raw",
   "metadata": {},
   "source": [
    "SELECT *\n",
    "FROM city_list;"
   ]
  },
  {
   "cell_type": "markdown",
   "metadata": {},
   "source": [
    "**Now we will start exploring data using 'Python'**"
   ]
  },
  {
   "cell_type": "code",
   "execution_count": 3,
   "metadata": {},
   "outputs": [],
   "source": [
    "# loading libraries\n",
    "import pandas as pd \n",
    "import matplotlib.pyplot as plt\n",
    "import seaborn as sns\n",
    "\n",
    "from sklearn.linear_model import LinearRegression#calc the trend-data for later plots"
   ]
  },
  {
   "cell_type": "code",
   "execution_count": 17,
   "metadata": {},
   "outputs": [],
   "source": [
    "#load the datasets\n",
    "df_city_data = pd.read_csv(\"/Users/arijeet/city_data.csv\")\n",
    "df_global_data = pd.read_csv(\"/Users/arijeet/global_data.csv\")\n",
    "df_city_list = pd.read_csv(\"/Users/arijeet/city_list.csv\")"
   ]
  },
  {
   "cell_type": "code",
   "execution_count": 5,
   "metadata": {},
   "outputs": [
    {
     "data": {
      "text/html": [
       "<div>\n",
       "<style scoped>\n",
       "    .dataframe tbody tr th:only-of-type {\n",
       "        vertical-align: middle;\n",
       "    }\n",
       "\n",
       "    .dataframe tbody tr th {\n",
       "        vertical-align: top;\n",
       "    }\n",
       "\n",
       "    .dataframe thead th {\n",
       "        text-align: right;\n",
       "    }\n",
       "</style>\n",
       "<table border=\"1\" class=\"dataframe\">\n",
       "  <thead>\n",
       "    <tr style=\"text-align: right;\">\n",
       "      <th></th>\n",
       "      <th>year</th>\n",
       "      <th>city</th>\n",
       "      <th>country</th>\n",
       "      <th>avg_temp</th>\n",
       "    </tr>\n",
       "  </thead>\n",
       "  <tbody>\n",
       "    <tr>\n",
       "      <th>0</th>\n",
       "      <td>1849</td>\n",
       "      <td>Abidjan</td>\n",
       "      <td>Côte D'Ivoire</td>\n",
       "      <td>25.58</td>\n",
       "    </tr>\n",
       "    <tr>\n",
       "      <th>1</th>\n",
       "      <td>1850</td>\n",
       "      <td>Abidjan</td>\n",
       "      <td>Côte D'Ivoire</td>\n",
       "      <td>25.52</td>\n",
       "    </tr>\n",
       "    <tr>\n",
       "      <th>2</th>\n",
       "      <td>1851</td>\n",
       "      <td>Abidjan</td>\n",
       "      <td>Côte D'Ivoire</td>\n",
       "      <td>25.67</td>\n",
       "    </tr>\n",
       "    <tr>\n",
       "      <th>3</th>\n",
       "      <td>1852</td>\n",
       "      <td>Abidjan</td>\n",
       "      <td>Côte D'Ivoire</td>\n",
       "      <td>NaN</td>\n",
       "    </tr>\n",
       "    <tr>\n",
       "      <th>4</th>\n",
       "      <td>1853</td>\n",
       "      <td>Abidjan</td>\n",
       "      <td>Côte D'Ivoire</td>\n",
       "      <td>NaN</td>\n",
       "    </tr>\n",
       "  </tbody>\n",
       "</table>\n",
       "</div>"
      ],
      "text/plain": [
       "   year     city        country  avg_temp\n",
       "0  1849  Abidjan  Côte D'Ivoire     25.58\n",
       "1  1850  Abidjan  Côte D'Ivoire     25.52\n",
       "2  1851  Abidjan  Côte D'Ivoire     25.67\n",
       "3  1852  Abidjan  Côte D'Ivoire       NaN\n",
       "4  1853  Abidjan  Côte D'Ivoire       NaN"
      ]
     },
     "execution_count": 5,
     "metadata": {},
     "output_type": "execute_result"
    }
   ],
   "source": [
    "df_city_data.head()"
   ]
  },
  {
   "cell_type": "markdown",
   "metadata": {},
   "source": [
    "## Step 2 - Exploring Data"
   ]
  },
  {
   "cell_type": "code",
   "execution_count": 6,
   "metadata": {},
   "outputs": [
    {
     "name": "stdout",
     "output_type": "stream",
     "text": [
      "<class 'pandas.core.frame.DataFrame'>\n",
      "RangeIndex: 71311 entries, 0 to 71310\n",
      "Data columns (total 4 columns):\n",
      "year        71311 non-null int64\n",
      "city        71311 non-null object\n",
      "country     71311 non-null object\n",
      "avg_temp    68764 non-null float64\n",
      "dtypes: float64(1), int64(1), object(2)\n",
      "memory usage: 2.2+ MB\n"
     ]
    }
   ],
   "source": [
    "#checking info of city_data \n",
    "df_city_data.info()"
   ]
  },
  {
   "cell_type": "code",
   "execution_count": 7,
   "metadata": {},
   "outputs": [
    {
     "data": {
      "text/html": [
       "<div>\n",
       "<style scoped>\n",
       "    .dataframe tbody tr th:only-of-type {\n",
       "        vertical-align: middle;\n",
       "    }\n",
       "\n",
       "    .dataframe tbody tr th {\n",
       "        vertical-align: top;\n",
       "    }\n",
       "\n",
       "    .dataframe thead th {\n",
       "        text-align: right;\n",
       "    }\n",
       "</style>\n",
       "<table border=\"1\" class=\"dataframe\">\n",
       "  <thead>\n",
       "    <tr style=\"text-align: right;\">\n",
       "      <th></th>\n",
       "      <th>year</th>\n",
       "      <th>city</th>\n",
       "      <th>country</th>\n",
       "      <th>avg_temp</th>\n",
       "    </tr>\n",
       "  </thead>\n",
       "  <tbody>\n",
       "    <tr>\n",
       "      <th>0</th>\n",
       "      <td>1849</td>\n",
       "      <td>Abidjan</td>\n",
       "      <td>Côte D'Ivoire</td>\n",
       "      <td>25.58</td>\n",
       "    </tr>\n",
       "    <tr>\n",
       "      <th>1</th>\n",
       "      <td>1850</td>\n",
       "      <td>Abidjan</td>\n",
       "      <td>Côte D'Ivoire</td>\n",
       "      <td>25.52</td>\n",
       "    </tr>\n",
       "    <tr>\n",
       "      <th>2</th>\n",
       "      <td>1851</td>\n",
       "      <td>Abidjan</td>\n",
       "      <td>Côte D'Ivoire</td>\n",
       "      <td>25.67</td>\n",
       "    </tr>\n",
       "    <tr>\n",
       "      <th>3</th>\n",
       "      <td>1852</td>\n",
       "      <td>Abidjan</td>\n",
       "      <td>Côte D'Ivoire</td>\n",
       "      <td>NaN</td>\n",
       "    </tr>\n",
       "    <tr>\n",
       "      <th>4</th>\n",
       "      <td>1853</td>\n",
       "      <td>Abidjan</td>\n",
       "      <td>Côte D'Ivoire</td>\n",
       "      <td>NaN</td>\n",
       "    </tr>\n",
       "  </tbody>\n",
       "</table>\n",
       "</div>"
      ],
      "text/plain": [
       "   year     city        country  avg_temp\n",
       "0  1849  Abidjan  Côte D'Ivoire     25.58\n",
       "1  1850  Abidjan  Côte D'Ivoire     25.52\n",
       "2  1851  Abidjan  Côte D'Ivoire     25.67\n",
       "3  1852  Abidjan  Côte D'Ivoire       NaN\n",
       "4  1853  Abidjan  Côte D'Ivoire       NaN"
      ]
     },
     "execution_count": 7,
     "metadata": {},
     "output_type": "execute_result"
    }
   ],
   "source": [
    "#checking the head of city_data\n",
    "df_city_data.head()"
   ]
  },
  {
   "cell_type": "markdown",
   "metadata": {},
   "source": [
    "The sum of the entries in the loaded dataframe equals the result of the SQL query, what means, that everything worked correctly.\n",
    "\n",
    "But the \"df_city_data\" dataframe has some data missing in the \"avg_temp\" column. The following step will be focused on finding out how much of the data is missing and how many different countries are affected by that."
   ]
  },
  {
   "cell_type": "code",
   "execution_count": 9,
   "metadata": {},
   "outputs": [
    {
     "data": {
      "text/plain": [
       "2547"
      ]
     },
     "execution_count": 9,
     "metadata": {},
     "output_type": "execute_result"
    }
   ],
   "source": [
    "#calculate missing values in the \"avg_temp\" column\n",
    "missing_data=df_city_data['avg_temp'].isna()\n",
    "sum(missing_data)"
   ]
  },
  {
   "cell_type": "code",
   "execution_count": 12,
   "metadata": {},
   "outputs": [
    {
     "data": {
      "text/plain": [
       "235"
      ]
     },
     "execution_count": 12,
     "metadata": {},
     "output_type": "execute_result"
    }
   ],
   "source": [
    "#calculate the number of affected unique city names\n",
    "len(df_city_data[missing_data]['city'].unique())"
   ]
  },
  {
   "cell_type": "markdown",
   "metadata": {},
   "source": [
    "**From all the data there are 2547 datapoints missing and 235 cities have missing data in the time span. Missing data can cause a problem because some methods and functions throw an error while getting \"NaN\" values. In our specific case we will find where all we are getting missing values and then we will try to figure out how to deal with them.**\n",
    "    \n",
    "Now before moving further with our analysis, lets check global_data dataframe."
   ]
  },
  {
   "cell_type": "code",
   "execution_count": 18,
   "metadata": {},
   "outputs": [
    {
     "name": "stdout",
     "output_type": "stream",
     "text": [
      "<class 'pandas.core.frame.DataFrame'>\n",
      "RangeIndex: 266 entries, 0 to 265\n",
      "Data columns (total 2 columns):\n",
      "year        266 non-null int64\n",
      "avg_temp    266 non-null float64\n",
      "dtypes: float64(1), int64(1)\n",
      "memory usage: 4.2 KB\n"
     ]
    }
   ],
   "source": [
    "#checking the info of the global_data dataframe\n",
    "df_global_data.info()"
   ]
  },
  {
   "cell_type": "code",
   "execution_count": 28,
   "metadata": {},
   "outputs": [
    {
     "data": {
      "text/html": [
       "<div>\n",
       "<style scoped>\n",
       "    .dataframe tbody tr th:only-of-type {\n",
       "        vertical-align: middle;\n",
       "    }\n",
       "\n",
       "    .dataframe tbody tr th {\n",
       "        vertical-align: top;\n",
       "    }\n",
       "\n",
       "    .dataframe thead th {\n",
       "        text-align: right;\n",
       "    }\n",
       "</style>\n",
       "<table border=\"1\" class=\"dataframe\">\n",
       "  <thead>\n",
       "    <tr style=\"text-align: right;\">\n",
       "      <th></th>\n",
       "      <th>year</th>\n",
       "      <th>avg_temp</th>\n",
       "    </tr>\n",
       "  </thead>\n",
       "  <tbody>\n",
       "    <tr>\n",
       "      <th>0</th>\n",
       "      <td>1750</td>\n",
       "      <td>8.72</td>\n",
       "    </tr>\n",
       "    <tr>\n",
       "      <th>1</th>\n",
       "      <td>1751</td>\n",
       "      <td>7.98</td>\n",
       "    </tr>\n",
       "    <tr>\n",
       "      <th>2</th>\n",
       "      <td>1752</td>\n",
       "      <td>5.78</td>\n",
       "    </tr>\n",
       "    <tr>\n",
       "      <th>3</th>\n",
       "      <td>1753</td>\n",
       "      <td>8.39</td>\n",
       "    </tr>\n",
       "    <tr>\n",
       "      <th>4</th>\n",
       "      <td>1754</td>\n",
       "      <td>8.47</td>\n",
       "    </tr>\n",
       "  </tbody>\n",
       "</table>\n",
       "</div>"
      ],
      "text/plain": [
       "   year  avg_temp\n",
       "0  1750      8.72\n",
       "1  1751      7.98\n",
       "2  1752      5.78\n",
       "3  1753      8.39\n",
       "4  1754      8.47"
      ]
     },
     "execution_count": 28,
     "metadata": {},
     "output_type": "execute_result"
    }
   ],
   "source": [
    "df_global_data.head()"
   ]
  },
  {
   "cell_type": "markdown",
   "metadata": {},
   "source": [
    "It looks like there is __no data missing in the global_data dataframe.__ \n",
    "\n",
    "In order to check whether there are some years in the data missing or not, the maximum and minimum values of the years can be used to find that out."
   ]
  },
  {
   "cell_type": "code",
   "execution_count": 20,
   "metadata": {},
   "outputs": [
    {
     "name": "stdout",
     "output_type": "stream",
     "text": [
      "1750\n"
     ]
    }
   ],
   "source": [
    "#calculate the mininmal value of the \"year\" column in the global_data dataframe\n",
    "print(df_global_data['year'].min())"
   ]
  },
  {
   "cell_type": "code",
   "execution_count": 21,
   "metadata": {},
   "outputs": [
    {
     "name": "stdout",
     "output_type": "stream",
     "text": [
      "2015\n"
     ]
    }
   ],
   "source": [
    "#calculate the maximum value of the \"year\" column in the global_data dataframe\n",
    "print(df_global_data['year'].max())"
   ]
  },
  {
   "cell_type": "markdown",
   "metadata": {},
   "source": [
    "The maximum year is 2015, while the minimum year is 1750. This means that **there is data for all of the 265 years and no year is missing in \"df_global_data\".**"
   ]
  },
  {
   "cell_type": "markdown",
   "metadata": {},
   "source": [
    "In the following steps we will be choosing the desired city"
   ]
  },
  {
   "cell_type": "code",
   "execution_count": 22,
   "metadata": {},
   "outputs": [
    {
     "data": {
      "text/html": [
       "<div>\n",
       "<style scoped>\n",
       "    .dataframe tbody tr th:only-of-type {\n",
       "        vertical-align: middle;\n",
       "    }\n",
       "\n",
       "    .dataframe tbody tr th {\n",
       "        vertical-align: top;\n",
       "    }\n",
       "\n",
       "    .dataframe thead th {\n",
       "        text-align: right;\n",
       "    }\n",
       "</style>\n",
       "<table border=\"1\" class=\"dataframe\">\n",
       "  <thead>\n",
       "    <tr style=\"text-align: right;\">\n",
       "      <th></th>\n",
       "      <th>city</th>\n",
       "      <th>country</th>\n",
       "    </tr>\n",
       "  </thead>\n",
       "  <tbody>\n",
       "    <tr>\n",
       "      <th>6</th>\n",
       "      <td>Agra</td>\n",
       "      <td>India</td>\n",
       "    </tr>\n",
       "    <tr>\n",
       "      <th>7</th>\n",
       "      <td>Ahmadabad</td>\n",
       "      <td>India</td>\n",
       "    </tr>\n",
       "    <tr>\n",
       "      <th>12</th>\n",
       "      <td>Allahabad</td>\n",
       "      <td>India</td>\n",
       "    </tr>\n",
       "    <tr>\n",
       "      <th>14</th>\n",
       "      <td>Amritsar</td>\n",
       "      <td>India</td>\n",
       "    </tr>\n",
       "    <tr>\n",
       "      <th>30</th>\n",
       "      <td>Bangalore</td>\n",
       "      <td>India</td>\n",
       "    </tr>\n",
       "    <tr>\n",
       "      <th>44</th>\n",
       "      <td>Bhopal</td>\n",
       "      <td>India</td>\n",
       "    </tr>\n",
       "    <tr>\n",
       "      <th>85</th>\n",
       "      <td>Delhi</td>\n",
       "      <td>India</td>\n",
       "    </tr>\n",
       "    <tr>\n",
       "      <th>117</th>\n",
       "      <td>Haora</td>\n",
       "      <td>India</td>\n",
       "    </tr>\n",
       "    <tr>\n",
       "      <th>125</th>\n",
       "      <td>Hyderabad</td>\n",
       "      <td>India</td>\n",
       "    </tr>\n",
       "    <tr>\n",
       "      <th>129</th>\n",
       "      <td>Indore</td>\n",
       "      <td>India</td>\n",
       "    </tr>\n",
       "    <tr>\n",
       "      <th>135</th>\n",
       "      <td>Jaipur</td>\n",
       "      <td>India</td>\n",
       "    </tr>\n",
       "    <tr>\n",
       "      <th>145</th>\n",
       "      <td>Kanpur</td>\n",
       "      <td>India</td>\n",
       "    </tr>\n",
       "    <tr>\n",
       "      <th>182</th>\n",
       "      <td>Ludhiana</td>\n",
       "      <td>India</td>\n",
       "    </tr>\n",
       "    <tr>\n",
       "      <th>216</th>\n",
       "      <td>Nagpur</td>\n",
       "      <td>India</td>\n",
       "    </tr>\n",
       "    <tr>\n",
       "      <th>223</th>\n",
       "      <td>New Delhi</td>\n",
       "      <td>India</td>\n",
       "    </tr>\n",
       "    <tr>\n",
       "      <th>239</th>\n",
       "      <td>Patna</td>\n",
       "      <td>India</td>\n",
       "    </tr>\n",
       "    <tr>\n",
       "      <th>256</th>\n",
       "      <td>Pune</td>\n",
       "      <td>India</td>\n",
       "    </tr>\n",
       "    <tr>\n",
       "      <th>261</th>\n",
       "      <td>Rajkot</td>\n",
       "      <td>India</td>\n",
       "    </tr>\n",
       "    <tr>\n",
       "      <th>263</th>\n",
       "      <td>Ranchi</td>\n",
       "      <td>India</td>\n",
       "    </tr>\n",
       "    <tr>\n",
       "      <th>299</th>\n",
       "      <td>Surat</td>\n",
       "      <td>India</td>\n",
       "    </tr>\n",
       "    <tr>\n",
       "      <th>322</th>\n",
       "      <td>Vadodara</td>\n",
       "      <td>India</td>\n",
       "    </tr>\n",
       "    <tr>\n",
       "      <th>325</th>\n",
       "      <td>Varanasi</td>\n",
       "      <td>India</td>\n",
       "    </tr>\n",
       "  </tbody>\n",
       "</table>\n",
       "</div>"
      ],
      "text/plain": [
       "          city country\n",
       "6         Agra   India\n",
       "7    Ahmadabad   India\n",
       "12   Allahabad   India\n",
       "14    Amritsar   India\n",
       "30   Bangalore   India\n",
       "44      Bhopal   India\n",
       "85       Delhi   India\n",
       "117      Haora   India\n",
       "125  Hyderabad   India\n",
       "129     Indore   India\n",
       "135     Jaipur   India\n",
       "145     Kanpur   India\n",
       "182   Ludhiana   India\n",
       "216     Nagpur   India\n",
       "223  New Delhi   India\n",
       "239      Patna   India\n",
       "256       Pune   India\n",
       "261     Rajkot   India\n",
       "263     Ranchi   India\n",
       "299      Surat   India\n",
       "322   Vadodara   India\n",
       "325   Varanasi   India"
      ]
     },
     "execution_count": 22,
     "metadata": {},
     "output_type": "execute_result"
    }
   ],
   "source": [
    "df_city_list[df_city_list['country']=='India']"
   ]
  },
  {
   "cell_type": "code",
   "execution_count": 23,
   "metadata": {},
   "outputs": [],
   "source": [
    "df_haora=df_city_data[df_city_data['city']=='Haora']"
   ]
  },
  {
   "cell_type": "code",
   "execution_count": 29,
   "metadata": {},
   "outputs": [
    {
     "data": {
      "text/html": [
       "<div>\n",
       "<style scoped>\n",
       "    .dataframe tbody tr th:only-of-type {\n",
       "        vertical-align: middle;\n",
       "    }\n",
       "\n",
       "    .dataframe tbody tr th {\n",
       "        vertical-align: top;\n",
       "    }\n",
       "\n",
       "    .dataframe thead th {\n",
       "        text-align: right;\n",
       "    }\n",
       "</style>\n",
       "<table border=\"1\" class=\"dataframe\">\n",
       "  <thead>\n",
       "    <tr style=\"text-align: right;\">\n",
       "      <th></th>\n",
       "      <th>year</th>\n",
       "      <th>city</th>\n",
       "      <th>country</th>\n",
       "      <th>avg_temp</th>\n",
       "    </tr>\n",
       "  </thead>\n",
       "  <tbody>\n",
       "    <tr>\n",
       "      <th>24783</th>\n",
       "      <td>2009</td>\n",
       "      <td>Haora</td>\n",
       "      <td>India</td>\n",
       "      <td>27.15</td>\n",
       "    </tr>\n",
       "    <tr>\n",
       "      <th>24784</th>\n",
       "      <td>2010</td>\n",
       "      <td>Haora</td>\n",
       "      <td>India</td>\n",
       "      <td>27.29</td>\n",
       "    </tr>\n",
       "    <tr>\n",
       "      <th>24785</th>\n",
       "      <td>2011</td>\n",
       "      <td>Haora</td>\n",
       "      <td>India</td>\n",
       "      <td>26.41</td>\n",
       "    </tr>\n",
       "    <tr>\n",
       "      <th>24786</th>\n",
       "      <td>2012</td>\n",
       "      <td>Haora</td>\n",
       "      <td>India</td>\n",
       "      <td>26.94</td>\n",
       "    </tr>\n",
       "    <tr>\n",
       "      <th>24787</th>\n",
       "      <td>2013</td>\n",
       "      <td>Haora</td>\n",
       "      <td>India</td>\n",
       "      <td>27.37</td>\n",
       "    </tr>\n",
       "  </tbody>\n",
       "</table>\n",
       "</div>"
      ],
      "text/plain": [
       "       year   city country  avg_temp\n",
       "24783  2009  Haora   India     27.15\n",
       "24784  2010  Haora   India     27.29\n",
       "24785  2011  Haora   India     26.41\n",
       "24786  2012  Haora   India     26.94\n",
       "24787  2013  Haora   India     27.37"
      ]
     },
     "execution_count": 29,
     "metadata": {},
     "output_type": "execute_result"
    }
   ],
   "source": [
    "df_haora.head()"
   ]
  },
  {
   "cell_type": "code",
   "execution_count": 26,
   "metadata": {},
   "outputs": [
    {
     "data": {
      "text/plain": [
       "5"
      ]
     },
     "execution_count": 26,
     "metadata": {},
     "output_type": "execute_result"
    }
   ],
   "source": [
    "#calcuate the sum of the missing value in the Haora dataframe in the column \"avg_temp\"\n",
    "sum(df_haora['avg_temp'].isna())"
   ]
  },
  {
   "cell_type": "code",
   "execution_count": 27,
   "metadata": {},
   "outputs": [
    {
     "data": {
      "text/html": [
       "<div>\n",
       "<style scoped>\n",
       "    .dataframe tbody tr th:only-of-type {\n",
       "        vertical-align: middle;\n",
       "    }\n",
       "\n",
       "    .dataframe tbody tr th {\n",
       "        vertical-align: top;\n",
       "    }\n",
       "\n",
       "    .dataframe thead th {\n",
       "        text-align: right;\n",
       "    }\n",
       "</style>\n",
       "<table border=\"1\" class=\"dataframe\">\n",
       "  <thead>\n",
       "    <tr style=\"text-align: right;\">\n",
       "      <th></th>\n",
       "      <th>year</th>\n",
       "      <th>city</th>\n",
       "      <th>country</th>\n",
       "      <th>avg_temp</th>\n",
       "    </tr>\n",
       "  </thead>\n",
       "  <tbody>\n",
       "    <tr>\n",
       "      <th>24582</th>\n",
       "      <td>1808</td>\n",
       "      <td>Haora</td>\n",
       "      <td>India</td>\n",
       "      <td>NaN</td>\n",
       "    </tr>\n",
       "    <tr>\n",
       "      <th>24583</th>\n",
       "      <td>1809</td>\n",
       "      <td>Haora</td>\n",
       "      <td>India</td>\n",
       "      <td>NaN</td>\n",
       "    </tr>\n",
       "    <tr>\n",
       "      <th>24584</th>\n",
       "      <td>1810</td>\n",
       "      <td>Haora</td>\n",
       "      <td>India</td>\n",
       "      <td>NaN</td>\n",
       "    </tr>\n",
       "    <tr>\n",
       "      <th>24585</th>\n",
       "      <td>1811</td>\n",
       "      <td>Haora</td>\n",
       "      <td>India</td>\n",
       "      <td>NaN</td>\n",
       "    </tr>\n",
       "    <tr>\n",
       "      <th>24586</th>\n",
       "      <td>1812</td>\n",
       "      <td>Haora</td>\n",
       "      <td>India</td>\n",
       "      <td>NaN</td>\n",
       "    </tr>\n",
       "  </tbody>\n",
       "</table>\n",
       "</div>"
      ],
      "text/plain": [
       "       year   city country  avg_temp\n",
       "24582  1808  Haora   India       NaN\n",
       "24583  1809  Haora   India       NaN\n",
       "24584  1810  Haora   India       NaN\n",
       "24585  1811  Haora   India       NaN\n",
       "24586  1812  Haora   India       NaN"
      ]
     },
     "execution_count": 27,
     "metadata": {},
     "output_type": "execute_result"
    }
   ],
   "source": [
    "#showing the 5 missing values\n",
    "df_haora[df_haora['avg_temp'].isna()]"
   ]
  },
  {
   "cell_type": "code",
   "execution_count": 33,
   "metadata": {},
   "outputs": [
    {
     "name": "stdout",
     "output_type": "stream",
     "text": [
      "1796\n"
     ]
    }
   ],
   "source": [
    "#calculate the mininmal value of the \"year\" column in the Haora dataframe\n",
    "print(df_haora['year'].min())"
   ]
  },
  {
   "cell_type": "code",
   "execution_count": 34,
   "metadata": {},
   "outputs": [
    {
     "name": "stdout",
     "output_type": "stream",
     "text": [
      "2013\n"
     ]
    }
   ],
   "source": [
    "#calculate the mininmal value of the \"year\" column in the Haora dataframe\n",
    "print(df_haora['year'].max())"
   ]
  },
  {
   "cell_type": "code",
   "execution_count": 36,
   "metadata": {},
   "outputs": [
    {
     "data": {
      "text/plain": [
       "218"
      ]
     },
     "execution_count": 36,
     "metadata": {},
     "output_type": "execute_result"
    }
   ],
   "source": [
    "len(df_haora['year'].unique())"
   ]
  },
  {
   "cell_type": "markdown",
   "metadata": {},
   "source": [
    "There are five values missing. Imputations are creating false data points/bias and since the missing data in the \"Haora\" dataframe is for years 1808 to 1812 we can select the analysis time period from 1813 to 2013 for both the \"global_data\" & \"Haora' dataframe, since \"Haora\" dataframe has 218 unique years, starting from 1796, upto 2013. \n",
    "\n",
    "In the next step the global_data dataframe and the \"Haora\" dataframe will be copied. Also it will be made sure, that both dataframes fit in size (1813 - 2013) in order to compare the data better. In addition the rolling mean will be calculated with a window of 5 years. This should lead to a better readable plot without losing too much information. The last step consists of resetting the index of the \"Haora\" dataframe, so that the index of both dataframes also fit and the correlation can be calculated later."
   ]
  },
  {
   "cell_type": "code",
   "execution_count": 46,
   "metadata": {},
   "outputs": [],
   "source": [
    "#create a copy of the city_data dataframe and the global_data dataframe for our needs\n",
    "df_haora=df_city_data[(df_city_data['city']=='Haora')&(df_city_data['year']>= 1813)].copy()\n",
    "df_global_data_copy=df_global_data[(df_global_data['year']>= 1813)&(df_global_data['year']< 2014)].copy()"
   ]
  },
  {
   "cell_type": "code",
   "execution_count": 47,
   "metadata": {},
   "outputs": [
    {
     "data": {
      "text/plain": [
       "True"
      ]
     },
     "execution_count": 47,
     "metadata": {},
     "output_type": "execute_result"
    }
   ],
   "source": [
    "len(df_haora)==len(df_global_data_copy)"
   ]
  },
  {
   "cell_type": "code",
   "execution_count": 48,
   "metadata": {},
   "outputs": [
    {
     "name": "stdout",
     "output_type": "stream",
     "text": [
      "1813\n",
      "2013\n"
     ]
    }
   ],
   "source": [
    "print(df_haora['year'].min())\n",
    "print(df_haora['year'].max())"
   ]
  },
  {
   "cell_type": "code",
   "execution_count": 49,
   "metadata": {},
   "outputs": [
    {
     "name": "stdout",
     "output_type": "stream",
     "text": [
      "1813\n",
      "2013\n"
     ]
    }
   ],
   "source": [
    "print(df_global_data_copy['year'].min())\n",
    "print(df_global_data_copy['year'].max())"
   ]
  },
  {
   "cell_type": "markdown",
   "metadata": {},
   "source": [
    "Now both Haora and Global Dataframe have the same size (1813-2013)"
   ]
  },
  {
   "cell_type": "code",
   "execution_count": 50,
   "metadata": {},
   "outputs": [],
   "source": [
    "#setting the window for the rolling mean\n",
    "avg_num = 5\n",
    "\n",
    "#calculate the rolling mean of Haora city\n",
    "df_haora[\"RollingAverage\"]=df_haora['avg_temp'].rolling(window=avg_num).mean()\n",
    "\n",
    "#reset the index of Haora Dataframe\n",
    "df_haora.reset_index(inplace=True, drop=True)\n",
    "\n",
    "#calculate the rolling mean of Global Dataframe\n",
    "df_global_data_copy[\"RollingAverage\"]=df_global_data_copy[\"avg_temp\"].rolling(window=avg_num).mean()"
   ]
  },
  {
   "cell_type": "code",
   "execution_count": 51,
   "metadata": {},
   "outputs": [
    {
     "data": {
      "text/html": [
       "<div>\n",
       "<style scoped>\n",
       "    .dataframe tbody tr th:only-of-type {\n",
       "        vertical-align: middle;\n",
       "    }\n",
       "\n",
       "    .dataframe tbody tr th {\n",
       "        vertical-align: top;\n",
       "    }\n",
       "\n",
       "    .dataframe thead th {\n",
       "        text-align: right;\n",
       "    }\n",
       "</style>\n",
       "<table border=\"1\" class=\"dataframe\">\n",
       "  <thead>\n",
       "    <tr style=\"text-align: right;\">\n",
       "      <th></th>\n",
       "      <th>year</th>\n",
       "      <th>city</th>\n",
       "      <th>country</th>\n",
       "      <th>avg_temp</th>\n",
       "      <th>RollingAverage</th>\n",
       "    </tr>\n",
       "  </thead>\n",
       "  <tbody>\n",
       "    <tr>\n",
       "      <th>30</th>\n",
       "      <td>1843</td>\n",
       "      <td>Haora</td>\n",
       "      <td>India</td>\n",
       "      <td>25.61</td>\n",
       "      <td>25.676</td>\n",
       "    </tr>\n",
       "    <tr>\n",
       "      <th>31</th>\n",
       "      <td>1844</td>\n",
       "      <td>Haora</td>\n",
       "      <td>India</td>\n",
       "      <td>25.21</td>\n",
       "      <td>25.626</td>\n",
       "    </tr>\n",
       "    <tr>\n",
       "      <th>32</th>\n",
       "      <td>1845</td>\n",
       "      <td>Haora</td>\n",
       "      <td>India</td>\n",
       "      <td>25.43</td>\n",
       "      <td>25.544</td>\n",
       "    </tr>\n",
       "    <tr>\n",
       "      <th>33</th>\n",
       "      <td>1846</td>\n",
       "      <td>Haora</td>\n",
       "      <td>India</td>\n",
       "      <td>25.59</td>\n",
       "      <td>25.484</td>\n",
       "    </tr>\n",
       "    <tr>\n",
       "      <th>34</th>\n",
       "      <td>1847</td>\n",
       "      <td>Haora</td>\n",
       "      <td>India</td>\n",
       "      <td>25.26</td>\n",
       "      <td>25.420</td>\n",
       "    </tr>\n",
       "    <tr>\n",
       "      <th>35</th>\n",
       "      <td>1848</td>\n",
       "      <td>Haora</td>\n",
       "      <td>India</td>\n",
       "      <td>25.28</td>\n",
       "      <td>25.354</td>\n",
       "    </tr>\n",
       "    <tr>\n",
       "      <th>36</th>\n",
       "      <td>1849</td>\n",
       "      <td>Haora</td>\n",
       "      <td>India</td>\n",
       "      <td>25.24</td>\n",
       "      <td>25.360</td>\n",
       "    </tr>\n",
       "    <tr>\n",
       "      <th>37</th>\n",
       "      <td>1850</td>\n",
       "      <td>Haora</td>\n",
       "      <td>India</td>\n",
       "      <td>25.79</td>\n",
       "      <td>25.432</td>\n",
       "    </tr>\n",
       "    <tr>\n",
       "      <th>38</th>\n",
       "      <td>1851</td>\n",
       "      <td>Haora</td>\n",
       "      <td>India</td>\n",
       "      <td>25.74</td>\n",
       "      <td>25.462</td>\n",
       "    </tr>\n",
       "    <tr>\n",
       "      <th>39</th>\n",
       "      <td>1852</td>\n",
       "      <td>Haora</td>\n",
       "      <td>India</td>\n",
       "      <td>25.45</td>\n",
       "      <td>25.500</td>\n",
       "    </tr>\n",
       "  </tbody>\n",
       "</table>\n",
       "</div>"
      ],
      "text/plain": [
       "    year   city country  avg_temp  RollingAverage\n",
       "30  1843  Haora   India     25.61          25.676\n",
       "31  1844  Haora   India     25.21          25.626\n",
       "32  1845  Haora   India     25.43          25.544\n",
       "33  1846  Haora   India     25.59          25.484\n",
       "34  1847  Haora   India     25.26          25.420\n",
       "35  1848  Haora   India     25.28          25.354\n",
       "36  1849  Haora   India     25.24          25.360\n",
       "37  1850  Haora   India     25.79          25.432\n",
       "38  1851  Haora   India     25.74          25.462\n",
       "39  1852  Haora   India     25.45          25.500"
      ]
     },
     "execution_count": 51,
     "metadata": {},
     "output_type": "execute_result"
    }
   ],
   "source": [
    "#random checking of Haora Dataframe\n",
    "df_haora[30:40]"
   ]
  },
  {
   "cell_type": "code",
   "execution_count": 52,
   "metadata": {},
   "outputs": [
    {
     "data": {
      "text/html": [
       "<div>\n",
       "<style scoped>\n",
       "    .dataframe tbody tr th:only-of-type {\n",
       "        vertical-align: middle;\n",
       "    }\n",
       "\n",
       "    .dataframe tbody tr th {\n",
       "        vertical-align: top;\n",
       "    }\n",
       "\n",
       "    .dataframe thead th {\n",
       "        text-align: right;\n",
       "    }\n",
       "</style>\n",
       "<table border=\"1\" class=\"dataframe\">\n",
       "  <thead>\n",
       "    <tr style=\"text-align: right;\">\n",
       "      <th></th>\n",
       "      <th>year</th>\n",
       "      <th>avg_temp</th>\n",
       "      <th>RollingAverage</th>\n",
       "    </tr>\n",
       "  </thead>\n",
       "  <tbody>\n",
       "    <tr>\n",
       "      <th>93</th>\n",
       "      <td>1843</td>\n",
       "      <td>8.17</td>\n",
       "      <td>7.862</td>\n",
       "    </tr>\n",
       "    <tr>\n",
       "      <th>94</th>\n",
       "      <td>1844</td>\n",
       "      <td>7.65</td>\n",
       "      <td>7.866</td>\n",
       "    </tr>\n",
       "    <tr>\n",
       "      <th>95</th>\n",
       "      <td>1845</td>\n",
       "      <td>7.85</td>\n",
       "      <td>7.876</td>\n",
       "    </tr>\n",
       "    <tr>\n",
       "      <th>96</th>\n",
       "      <td>1846</td>\n",
       "      <td>8.55</td>\n",
       "      <td>8.048</td>\n",
       "    </tr>\n",
       "    <tr>\n",
       "      <th>97</th>\n",
       "      <td>1847</td>\n",
       "      <td>8.09</td>\n",
       "      <td>8.062</td>\n",
       "    </tr>\n",
       "    <tr>\n",
       "      <th>98</th>\n",
       "      <td>1848</td>\n",
       "      <td>7.98</td>\n",
       "      <td>8.024</td>\n",
       "    </tr>\n",
       "    <tr>\n",
       "      <th>99</th>\n",
       "      <td>1849</td>\n",
       "      <td>7.98</td>\n",
       "      <td>8.090</td>\n",
       "    </tr>\n",
       "    <tr>\n",
       "      <th>100</th>\n",
       "      <td>1850</td>\n",
       "      <td>7.90</td>\n",
       "      <td>8.100</td>\n",
       "    </tr>\n",
       "    <tr>\n",
       "      <th>101</th>\n",
       "      <td>1851</td>\n",
       "      <td>8.18</td>\n",
       "      <td>8.026</td>\n",
       "    </tr>\n",
       "    <tr>\n",
       "      <th>102</th>\n",
       "      <td>1852</td>\n",
       "      <td>8.10</td>\n",
       "      <td>8.028</td>\n",
       "    </tr>\n",
       "  </tbody>\n",
       "</table>\n",
       "</div>"
      ],
      "text/plain": [
       "     year  avg_temp  RollingAverage\n",
       "93   1843      8.17           7.862\n",
       "94   1844      7.65           7.866\n",
       "95   1845      7.85           7.876\n",
       "96   1846      8.55           8.048\n",
       "97   1847      8.09           8.062\n",
       "98   1848      7.98           8.024\n",
       "99   1849      7.98           8.090\n",
       "100  1850      7.90           8.100\n",
       "101  1851      8.18           8.026\n",
       "102  1852      8.10           8.028"
      ]
     },
     "execution_count": 52,
     "metadata": {},
     "output_type": "execute_result"
    }
   ],
   "source": [
    "#random checking of Global Dataframe\n",
    "df_global_data_copy[30:40]"
   ]
  },
  {
   "cell_type": "markdown",
   "metadata": {},
   "source": [
    "**Next step is plotting the data in a line plot. The rolling average will be plotted in front, so that the \"raw data\" behind it still visible and one can get a feeling about how the rolling mean builds up.\n",
    "Because the \"preparing and plotting\" process will repeat often, it is useful to wrap this process up into some functions.**\n",
    "\n",
    "**The first functions prepares the dataframes for the chosen city(s) and calculates the rolling mean and the trend data. The second function plots the results from the first function and got several options to make the exploration more easy.**"
   ]
  },
  {
   "cell_type": "code",
   "execution_count": 56,
   "metadata": {},
   "outputs": [],
   "source": [
    "def prep_df(cities, avg_num = 5):\n",
    "    \"\"\"\n",
    "    INPUT: cities - list of strings, city names\n",
    "           avg_num - integer, window for the rolling mean\n",
    "\n",
    "    OUTPUT: dictionary with preprocessed dataframes and citynames as key\n",
    "    \"\"\"    \n",
    "    #create empty dict\n",
    "    results = {}\n",
    "    \n",
    "    #loop for all city names\n",
    "    for x in cities:\n",
    "        #selecting the required city and year greater than 1812 and less than 2014\n",
    "        df_x=df_city_data[(df_city_data['city']== x) & (df_city_data['year']>= 1813) & (df_city_data['year']< 2014)].copy()\n",
    "        \n",
    "        #calculate rolling average with window = avg_num\n",
    "        df_x['RollingAverage']=df_x['avg_temp'].rolling(window=avg_num).mean()\n",
    "        \n",
    "        #calculating trend\n",
    "        try:\n",
    "            #loading model\n",
    "            trend_model=LinearRegression()\n",
    "            \n",
    "            #defining X and Y values\n",
    "            X=df_x[['year']]\n",
    "            Y=df_x[['avg_temp']]\n",
    "            \n",
    "            #fitting the values to the model\n",
    "            trend_model.fit(X,Y)\n",
    "            \n",
    "            #predict the values with the X data to get the trend line and add it to the dataframe\n",
    "            df_x['trend']=trend_model.predict(X)\n",
    "            print(f\"{x} slope: {trend_model.coef_}\")\n",
    "            \n",
    "        except:\n",
    "            #for NaN values\n",
    "            print('Cannot calculate trend')\n",
    "            \n",
    "        finally:    \n",
    "            #reset the index and add the dataframe to the dictionary\n",
    "            df_x.reset_index(inplace = True, drop = True)\n",
    "            results[x]=df_x\n",
    "            \n",
    "    for x in results:\n",
    "        #print the average temperature from 1813 to 2013 for the chosen countries\n",
    "        print(f'The average temperature in {x} (1813 - 2013) is: {results[x][\"avg_temp\"].mean():.2f} °C')\n",
    "        print(f'Some more {x} values: Max {results[x][\"avg_temp\"].max():.2f}°C; Min {results[x][\"avg_temp\"].min():.2f}°C \\n')\n",
    "    \n",
    "    #copy the global data for years 1813-2013\n",
    "    df_global_copy=df_global_data[(df_global_data['year']>=1813)&(df_global_data['year']<2014)].copy()\n",
    "              \n",
    "    #calculating the trend line for global Dataframe and saving it to results Dataframe\n",
    "    try:\n",
    "        trend_model=LinearRegression()\n",
    "              \n",
    "        X=df_global_copy[['year']]\n",
    "        Y=df_global_copy[['avg_temp']]      \n",
    "        trend_model.fit(X,Y)      \n",
    "        \n",
    "        df_global_copy['trend']=trend_model.predict(X)      \n",
    "        print(f'Global slope: {trend_model.coef_}')\n",
    "        \n",
    "    except:\n",
    "        print(\"Error while calculating the global trend.\")\n",
    "        \n",
    "    finally:\n",
    "        \n",
    "        df_global_copy[\"RollingAverage\"] = df_global_copy[\"avg_temp\"].rolling(window = avg_num).mean()    \n",
    "        results[\"Global\"] = df_global_copy\n",
    "\n",
    "        print(f'The global average temperature (1813 - 2013) is: {df_global_copy[\"avg_temp\"].mean():.2f} °C')\n",
    "        print(f'More global values: Max: {df_global_copy[\"avg_temp\"].max():.2f} °C; Min: {df_global_copy[\"avg_temp\"].min():.2f} °C')\n",
    "        #return the dict\n",
    "        return results                  \n",
    "\n",
    "def plot_results(result, fig_size = (10,6), global_plot = True, opac = 0.7, show_normal = False, trend = False):\n",
    "    \"\"\"\n",
    "    INPUT: result - dictionary with dataframes from the function \"prepare_df\"\n",
    "           fig_size - tuple to determine the size of the figure (width, height)\n",
    "           global_plot - boolean, shows the plot of global data if set to true\n",
    "           opac - float, sets the opacity for the city - data plots\n",
    "           show_normal - boolean, plots also the avg_temp in addition to the rolling mean if set to true\n",
    "           trend - boolean, shows the trend if set to true\n",
    "    OUTPUT: plot\n",
    "    \"\"\"\n",
    "    with sns.plotting_context(\"notebook\"):\n",
    "        #creating the figure and axes for the plot\n",
    "        fig, ax = plt.subplots(figsize = fig_size)    \n",
    "\n",
    "        #if global_plot = True shows the global data\n",
    "        if global_plot:        \n",
    "            sns.lineplot(x = \"year\", y = \"RollingAverage\", data = result[\"Global\"], label = \"Global\", lw = 1.7)  \n",
    "            #if trend = True shows the global trend\n",
    "            if trend:\n",
    "                sns.lineplot(x = \"year\", y = \"trend\", data = result[\"Global\"], label = \"Global trend\")\n",
    "            #shows avg_temp in addition if show_normal = True\n",
    "            if show_normal:\n",
    "                sns.lineplot(x = \"year\", y = \"avg_temp\", data = result[\"Global\"], label = f\"Global avg_temp\", alpha = 0.5, \n",
    "                             color = \"grey\", lw = 1.2)\n",
    "\n",
    "        #deletes the \"Global\" key-value pair in the dictionary to not double plot it    \n",
    "        result.pop('Global', None)\n",
    "\n",
    "        #plots the graph for every city-key in the dictionary\n",
    "        for x in result:\n",
    "            sns.lineplot(x = \"year\", y = \"RollingAverage\", data = result[x], label = x, alpha = opac)              \n",
    "              \n",
    "              \n",
    "            if show_normal:\n",
    "                sns.lineplot(x = \"year\", y = \"avg_temp\", data = result[x], label = f\"{x} avg_temp\", alpha = 0.5, \n",
    "                             color = \"grey\", lw = 1.2)\n",
    "            if trend:\n",
    "                sns.lineplot(x = \"year\", y = \"trend\", data = result[x], label = f\"{x} trend\")\n",
    "\n",
    "        #loads the legend\n",
    "        ax.legend()\n",
    "\n",
    "        #set x and y labels and the title\n",
    "        ax.set_ylabel(\"Rolling average temperature in °C\")\n",
    "        ax.set_xlabel(\"Year\")\n",
    "        ax.set_title(\"Temperature time-series\")\n",
    "\n",
    "        #deactivate right and top spine\n",
    "        ax.spines['right'].set_visible(False)\n",
    "        ax.spines['top'].set_visible(False)\n",
    "        plt.tight_layout()\n",
    "\n",
    "        #shows the plot\n",
    "        plt.show()              "
   ]
  },
  {
   "cell_type": "markdown",
   "metadata": {},
   "source": [
    "Now lets plot the Global Temp trend"
   ]
  },
  {
   "cell_type": "code",
   "execution_count": 61,
   "metadata": {},
   "outputs": [
    {
     "name": "stdout",
     "output_type": "stream",
     "text": [
      "Global slope: [[0.00773545]]\n",
      "The global average temperature (1813 - 2013) is: 8.43 °C\n",
      "More global values: Max: 9.73 °C; Min: 6.94 °C\n"
     ]
    },
    {
     "data": {
      "image/png": "[encoded data removed]",
      "text/plain": [
       "<Figure size 720x432 with 1 Axes>"
      ]
     },
     "metadata": {
      "needs_background": "light"
     },
     "output_type": "display_data"
    }
   ],
   "source": [
    "#creating an empty list\n",
    "cities = []\n",
    "#calling the newly created functions\n",
    "plot_results(prep_df(cities), global_plot=True, show_normal=True, opac = 1, trend = True)"
   ]
  },
  {
   "cell_type": "markdown",
   "metadata": {},
   "source": [
    "**From the graph above the global uptrend of temperature is evident.**\n",
    "\n",
    "**Also the global temperature seems to increase at a faster rate for the last 50 years.** "
   ]
  },
  {
   "cell_type": "code",
   "execution_count": 63,
   "metadata": {},
   "outputs": [
    {
     "name": "stdout",
     "output_type": "stream",
     "text": [
      "Haora slope: [[0.00725743]]\n",
      "The average temperature in Haora (1813 - 2013) is: 26.02 °C\n",
      "Some more Haora values: Max 27.37°C; Min 20.97°C \n",
      "\n",
      "Global slope: [[0.00773545]]\n",
      "The global average temperature (1813 - 2013) is: 8.43 °C\n",
      "More global values: Max: 9.73 °C; Min: 6.94 °C\n"
     ]
    },
    {
     "data": {
      "image/png": "[encoded data removed]",
      "text/plain": [
       "<Figure size 720x432 with 1 Axes>"
      ]
     },
     "metadata": {
      "needs_background": "light"
     },
     "output_type": "display_data"
    }
   ],
   "source": [
    "#creating an empty list\n",
    "cities = ['Haora']\n",
    "#calling the newly created functions\n",
    "plot_results(prep_df(cities), global_plot=False, show_normal=True, opac = 1, trend = True)"
   ]
  },
  {
   "cell_type": "markdown",
   "metadata": {},
   "source": [
    "**The graph shows an overall uptrend in the average temperature for Haora. The calculated numbers tell us, that the slope for the \"Haora\" data is slightly lower than the global overall slope. The average temperature in Haora is much higher than the global average, since Haora has a tropical climate.**"
   ]
  },
  {
   "cell_type": "code",
   "execution_count": 69,
   "metadata": {},
   "outputs": [
    {
     "data": {
      "image/png": "[encoded data removed]",
      "text/plain": [
       "<Figure size 432x288 with 1 Axes>"
      ]
     },
     "metadata": {
      "needs_background": "light"
     },
     "output_type": "display_data"
    }
   ],
   "source": [
    "df_haora[\"avg_temp\"].rolling(window = avg_num).std().plot()\n",
    "plt.title(\"Rolling standard deviation for Haora 'avg_temp' data\");"
   ]
  },
  {
   "cell_type": "markdown",
   "metadata": {},
   "source": [
    "**The standard deviation is really low for most of the time other than at the 50 year mark. This year is almost equal to year 1863 and at which point we can see a sharp decline in Haora's temperature from the graph as well.**\n",
    "\n",
    "**In the next step the Global data plot will be plotted in the same figure as the Berlin data plot to compare them.**"
   ]
  },
  {
   "cell_type": "code",
   "execution_count": 70,
   "metadata": {},
   "outputs": [
    {
     "name": "stdout",
     "output_type": "stream",
     "text": [
      "Haora slope: [[0.00725743]]\n",
      "The average temperature in Haora (1813 - 2013) is: 26.02 °C\n",
      "Some more Haora values: Max 27.37°C; Min 20.97°C \n",
      "\n",
      "Global slope: [[0.00773545]]\n",
      "The global average temperature (1813 - 2013) is: 8.43 °C\n",
      "More global values: Max: 9.73 °C; Min: 6.94 °C\n"
     ]
    },
    {
     "data": {
      "image/png": "[encoded data removed]",
      "text/plain": [
       "<Figure size 720x432 with 1 Axes>"
      ]
     },
     "metadata": {
      "needs_background": "light"
     },
     "output_type": "display_data"
    }
   ],
   "source": [
    "#creating an empty list\n",
    "cities = ['Haora']\n",
    "#calling the newly created functions\n",
    "plot_results(prep_df(cities), global_plot=True, show_normal=False, opac = 1, trend = True)"
   ]
  },
  {
   "cell_type": "markdown",
   "metadata": {},
   "source": [
    "**At the end of the time series both of the graphs show a rather strong uptrend. Overall both graphs look highly correlated. Also the slope of the Haora Trend is lower than the global slope, which means that the global average temperature is increasing faster.**\n",
    "\n",
    "**In the next step the correlation of the two graphs will be calculated to see how much they are correlated in truth.**"
   ]
  },
  {
   "cell_type": "code",
   "execution_count": 71,
   "metadata": {},
   "outputs": [
    {
     "data": {
      "text/plain": [
       "avg_temp    0.407332\n",
       "dtype: float64"
      ]
     },
     "execution_count": 71,
     "metadata": {},
     "output_type": "execute_result"
    }
   ],
   "source": [
    "#calculating the correlation between the Haora avg_temp and the global avg_temp\n",
    "df_haora[[\"avg_temp\"]].corrwith(df_global_data_copy[\"avg_temp\"])"
   ]
  },
  {
   "cell_type": "markdown",
   "metadata": {},
   "source": [
    "**With 0.40 correlation the Haora Data and the Global Data are moderately correlated.**"
   ]
  },
  {
   "cell_type": "markdown",
   "metadata": {},
   "source": [
    "## Step 3 - Conclusion\n",
    "\n",
    "**So to conclude, there is a clear overall uptrend in the average global temperature. From which we can assume that the temperature will keep increasing in future as well**\n",
    "\n",
    "The Indian city of Haora got compared to the global data (1813 - 2013):\n",
    "\n",
    "- The place of my stay Haora has a higher average temperature compared to world’s average temperature, so Haora is hotter than the global average temperature.\n",
    "- There is a trend of increasing local & global temperature, which is to say that the earth is getting hotter with time. This trend has been consistent through the years, as the chart depicts.\n",
    "- The moderate correlation shows that temperature difference between Global temperature and Haora temperature is fairly same.\n",
    "- The slope of the global trend is higher than compared to the german cities, so the global average temperature is increasing faster."
   ]
  },
  {
   "cell_type": "code",
   "execution_count": null,
   "metadata": {},
   "outputs": [],
   "source": []
  }
 ],
 "metadata": {
  "kernelspec": {
   "display_name": "Python 3",
   "language": "python",
   "name": "python3"
  },
  "language_info": {
   "codemirror_mode": {
    "name": "ipython",
    "version": 3
   },
   "file_extension": ".py",
   "mimetype": "text/x-python",
   "name": "python",
   "nbconvert_exporter": "python",
   "pygments_lexer": "ipython3",
   "version": "3.6.8"
  }
 },
 "nbformat": 4,
 "nbformat_minor": 2
}
